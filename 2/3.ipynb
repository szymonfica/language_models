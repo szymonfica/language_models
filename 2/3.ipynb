{
 "cells": [
  {
   "cell_type": "code",
   "execution_count": 109,
   "metadata": {},
   "outputs": [],
   "source": [
    "import torch\n",
    "from transformers import AutoTokenizer, AutoModelForCausalLM, pipeline\n",
    "from torch.nn import functional as F\n",
    "import transformers\n",
    "import re\n",
    "\n",
    "# generator = pipeline('text-generation', model='flax-community/papuGaPT2', device=0)\n",
    "# model_name = 'flax-community/papuGaPT2'\n",
    "generator = pipeline('text-generation', model='eryk-mazus/polka-1.1b-chat', device=0)\n",
    "model_name = 'eryk-mazus/polka-1.1b-chat'\n",
    "transformers.logging.set_verbosity_error()\n",
    "device = 'cuda'\n",
    "device = 'cpu'\n",
    "tokenizer = AutoTokenizer.from_pretrained(model_name)\n",
    "model = AutoModelForCausalLM.from_pretrained(model_name).to(device)\n",
    "\n",
    "def log_probs_from_logits(logits, labels):\n",
    "    logp = F.log_softmax(logits, dim=-1)\n",
    "    logp_label = torch.gather(logp, 2, labels.unsqueeze(2)).squeeze(-1)\n",
    "    return logp_label\n",
    "    \n",
    "            \n",
    "def sentence_prob(sentence_txt):\n",
    "    input_ids = tokenizer(sentence_txt, return_tensors='pt')['input_ids'].to(device)\n",
    "    with torch.no_grad():\n",
    "        output = model(input_ids=input_ids)\n",
    "        log_probs = log_probs_from_logits(output.logits[:, :-1, :], input_ids[:, 1:])\n",
    "        seq_log_probs = torch.sum(log_probs)\n",
    "    return seq_log_probs.cpu().numpy()\n",
    "\n",
    "def normalized_sentence_prob(txt):\n",
    "    length = len(tokenizer(txt, return_tensors='pt')['input_ids'][0])\n",
    "    return sentence_prob(txt) / length"
   ]
  },
  {
   "cell_type": "code",
   "execution_count": 95,
   "metadata": {},
   "outputs": [],
   "source": [
    "def beam_search(k, sentence):\n",
    "    words = sentence.split(' ')\n",
    "    beams = []\n",
    "\n",
    "    beams = [(normalized_sentence_prob(w), w) for w in words[0].split('|')]\n",
    "    beams.sort(key=lambda x: x[0], reverse=True)\n",
    "    print(beams)\n",
    "    # beams = [w[1] for w in beams]\n",
    "    beams = beams[:k]\n",
    "    \n",
    "    for i in words[1:]:\n",
    "        arr = [(normalized_sentence_prob(b[1] + ' ' + w), b[1] + ' ' + w) for b in beams for w in i.split('|')]\n",
    "        arr.sort(key=lambda x:x[0], reverse=True)\n",
    "        print(arr)\n",
    "        # arr = [w[1] for w in arr]\n",
    "        arr = arr[:k]\n",
    "        print(arr)\n",
    "        beams = arr\n",
    "    \n",
    "    return beams\n",
    "\n"
   ]
  },
  {
   "cell_type": "code",
   "execution_count": 107,
   "metadata": {},
   "outputs": [],
   "source": [
    "input1 = 'wprost|wyprosty|wyprostu|wyprost uwielbiała|wielbił|wielbiła|uwielbił|wielbiło|uwielbiał|uwielbiało|uwielbiały słuchać|osłuchać|słychać|usłuchać o|i|e|a|ó|ę|y|ą|u wartościach własnych|owłosionych macierzy|mocarz|macierzą|macierze|mocarza|mocarze|mocarzy|macierz'\n",
    "input2 = 'ala|marianna ma|miała rudego|siwego|białego kota|psa'\n",
    "input3 = 'wartościach własnych|owłosionych macierzy|mocarz|macierzą|macierze|mocarza|mocarze|mocarzy|macierz'\n"
   ]
  },
  {
   "cell_type": "code",
   "execution_count": 112,
   "metadata": {},
   "outputs": [
    {
     "name": "stdout",
     "output_type": "stream",
     "text": [
      "-3.629666283017113\n",
      "-4.113057989823191\n"
     ]
    }
   ],
   "source": [
    "print(normalized_sentence_prob('wyprosty uwielbiały słuchać o wartościach własnych macierzy'))\n",
    "print(normalized_sentence_prob('wprost uwielbiał słuchać o wartościach własnych macierzy'))"
   ]
  },
  {
   "cell_type": "code",
   "execution_count": 111,
   "metadata": {},
   "outputs": [
    {
     "name": "stdout",
     "output_type": "stream",
     "text": [
      "[(-5.443730354309082, 'wyprosty'), (-5.769036293029785, 'wyprostu'), (-5.851399103800456, 'wyprost'), (-6.551085154215495, 'wprost')]\n",
      "[(-4.737009525299072, 'wyprosty uwielbiały'), (-4.914733409881592, 'wyprosty uwielbiała'), (-4.923218727111816, 'wyprostu uwielbiała'), (-5.054885387420654, 'wyprosty uwielbiało'), (-5.061822891235352, 'wyprostu uwielbiało'), (-5.1802215576171875, 'wyprostu uwielbiały'), (-5.323688507080078, 'wyprosty uwielbiał'), (-5.5633746555873325, 'wyprostu uwielbiał'), (-5.836857386997768, 'wyprosty wielbił'), (-5.944157191685268, 'wyprostu wielbił'), (-5.964850289481027, 'wyprosty wielbiła'), (-6.078267778669085, 'wyprosty wielbiło'), (-6.182826450892857, 'wyprostu wielbiła'), (-6.288023267473493, 'wyprostu wielbiło'), (-7.497186388288226, 'wyprosty uwielbił'), (-7.6839174543108255, 'wyprostu uwielbił')]\n",
      "[(-4.737009525299072, 'wyprosty uwielbiały'), (-4.914733409881592, 'wyprosty uwielbiała')]\n",
      "[(-4.078137484463778, 'wyprosty uwielbiały słuchać'), (-4.206821788441051, 'wyprosty uwielbiała słuchać'), (-4.424380938212077, 'wyprosty uwielbiały usłuchać'), (-4.5305092551491475, 'wyprosty uwielbiały słychać'), (-4.6432952880859375, 'wyprosty uwielbiała usłuchać'), (-4.658890088399251, 'wyprosty uwielbiały osłuchać'), (-4.719902038574219, 'wyprosty uwielbiała słychać'), (-4.752327601114909, 'wyprosty uwielbiała osłuchać')]\n",
      "[(-4.078137484463778, 'wyprosty uwielbiały słuchać'), (-4.206821788441051, 'wyprosty uwielbiała słuchać')]\n",
      "[(-4.030137379964192, 'wyprosty uwielbiały słuchać o'), (-4.090445836385091, 'wyprosty uwielbiały słuchać i'), (-4.157050768534343, 'wyprosty uwielbiała słuchać o'), (-4.211279233296712, 'wyprosty uwielbiały słuchać a'), (-4.216169357299805, 'wyprosty uwielbiała słuchać i'), (-4.228833516438802, 'wyprosty uwielbiały słuchać e'), (-4.23120657602946, 'wyprosty uwielbiały słuchać u'), (-4.337521553039551, 'wyprosty uwielbiała słuchać u'), (-4.37101682027181, 'wyprosty uwielbiała słuchać a'), (-4.395469665527344, 'wyprosty uwielbiała słuchać e'), (-4.576779365539551, 'wyprosty uwielbiały słuchać ą'), (-4.669191678365071, 'wyprosty uwielbiały słuchać y'), (-4.690304756164551, 'wyprosty uwielbiały słuchać ę'), (-4.751646995544434, 'wyprosty uwielbiała słuchać ą'), (-4.755633036295573, 'wyprosty uwielbiały słuchać ó'), (-4.785815556844075, 'wyprosty uwielbiała słuchać y'), (-4.852327346801758, 'wyprosty uwielbiała słuchać ę'), (-4.950239181518555, 'wyprosty uwielbiała słuchać ó')]\n",
      "[(-4.030137379964192, 'wyprosty uwielbiały słuchać o'), (-4.090445836385091, 'wyprosty uwielbiały słuchać i')]\n",
      "[(-3.613405704498291, 'wyprosty uwielbiały słuchać o wartościach'), (-3.9964959621429443, 'wyprosty uwielbiały słuchać i wartościach')]\n",
      "[(-3.613405704498291, 'wyprosty uwielbiały słuchać o wartościach'), (-3.9964959621429443, 'wyprosty uwielbiały słuchać i wartościach')]\n",
      "[(-3.700458526611328, 'wyprosty uwielbiały słuchać o wartościach własnych'), (-3.8078399658203126, 'wyprosty uwielbiały słuchać o wartościach owłosionych'), (-3.9654117160373263, 'wyprosty uwielbiały słuchać i wartościach własnych'), (-3.9879974365234374, 'wyprosty uwielbiały słuchać i wartościach owłosionych')]\n",
      "[(-3.700458526611328, 'wyprosty uwielbiały słuchać o wartościach własnych'), (-3.8078399658203126, 'wyprosty uwielbiały słuchać o wartościach owłosionych')]\n",
      "[(-3.629666283017113, 'wyprosty uwielbiały słuchać o wartościach własnych macierzy'), (-3.7504984537760415, 'wyprosty uwielbiały słuchać o wartościach własnych macierz'), (-3.7801099504743303, 'wyprosty uwielbiały słuchać o wartościach własnych mocarzy'), (-3.7930815323539404, 'wyprosty uwielbiały słuchać o wartościach owłosionych macierzy'), (-3.879621422809103, 'wyprosty uwielbiały słuchać o wartościach owłosionych mocarzy'), (-3.8833883534307065, 'wyprosty uwielbiały słuchać o wartościach owłosionych macierz'), (-3.9236163184756325, 'wyprosty uwielbiały słuchać o wartościach własnych mocarza'), (-3.982640584309896, 'wyprosty uwielbiały słuchać o wartościach własnych macierze'), (-3.989859081449963, 'wyprosty uwielbiały słuchać o wartościach własnych mocarze'), (-4.030097629712976, 'wyprosty uwielbiały słuchać o wartościach owłosionych mocarze'), (-4.0446116129557295, 'wyprosty uwielbiały słuchać o wartościach własnych macierzą'), (-4.050795845363451, 'wyprosty uwielbiały słuchać o wartościach owłosionych mocarza'), (-4.08963623046875, 'wyprosty uwielbiały słuchać o wartościach własnych mocarz'), (-4.095512058423913, 'wyprosty uwielbiały słuchać o wartościach owłosionych macierze'), (-4.108779243800951, 'wyprosty uwielbiały słuchać o wartościach owłosionych macierzą'), (-4.119219693270597, 'wyprosty uwielbiały słuchać o wartościach owłosionych mocarz')]\n",
      "[(-3.629666283017113, 'wyprosty uwielbiały słuchać o wartościach własnych macierzy'), (-3.7504984537760415, 'wyprosty uwielbiały słuchać o wartościach własnych macierz')]\n"
     ]
    },
    {
     "data": {
      "text/plain": [
       "[(-3.629666283017113,\n",
       "  'wyprosty uwielbiały słuchać o wartościach własnych macierzy'),\n",
       " (-3.7504984537760415,\n",
       "  'wyprosty uwielbiały słuchać o wartościach własnych macierz')]"
      ]
     },
     "execution_count": 111,
     "metadata": {},
     "output_type": "execute_result"
    }
   ],
   "source": [
    "beam_search(2, input1)\n"
   ]
  }
 ],
 "metadata": {
  "kernelspec": {
   "display_name": "Python 3",
   "language": "python",
   "name": "python3"
  },
  "language_info": {
   "codemirror_mode": {
    "name": "ipython",
    "version": 3
   },
   "file_extension": ".py",
   "mimetype": "text/x-python",
   "name": "python",
   "nbconvert_exporter": "python",
   "pygments_lexer": "ipython3",
   "version": "3.9.6"
  }
 },
 "nbformat": 4,
 "nbformat_minor": 2
}
