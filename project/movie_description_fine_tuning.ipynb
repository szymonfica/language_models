{
  "nbformat": 4,
  "nbformat_minor": 0,
  "metadata": {
    "colab": {
      "provenance": []
    },
    "kernelspec": {
      "name": "python3",
      "display_name": "Python 3"
    },
    "language_info": {
      "name": "python"
    }
  },
  "cells": [
    {
      "cell_type": "code",
      "source": [
        "import os\n",
        "import pandas as pd\n",
        "import torch\n",
        "from transformers import GPT2LMHeadModel, GPT2Tokenizer, Trainer, TrainingArguments, DataCollatorForLanguageModeling\n",
        "from torch.utils.data import Dataset"
      ],
      "metadata": {
        "id": "z7_k78MB5iuM"
      },
      "execution_count": null,
      "outputs": []
    },
    {
      "cell_type": "code",
      "source": [
        "import kagglehub\n",
        "\n",
        "def download_and_get_csv_path(dataset_name, version_path=\"/root/.cache/kagglehub/datasets\"):\n",
        "\n",
        "    dataset_path = kagglehub.dataset_download(dataset_name)\n",
        "\n",
        "    csv_file = None\n",
        "    for root, dirs, files in os.walk(dataset_path):\n",
        "        for file in files:\n",
        "            if file.endswith(\".csv\"):\n",
        "                csv_file = os.path.join(root, file)\n",
        "                break\n",
        "        if csv_file:\n",
        "            break\n",
        "\n",
        "    return csv_file\n",
        "\n",
        "def load_data(dataset_path):\n",
        "    data = pd.read_csv(dataset_path)\n",
        "    return data\n",
        "\n",
        "try:\n",
        "    dataset_name = \"harshitshankhdhar/imdb-dataset-of-top-1000-movies-and-tv-shows\"\n",
        "    csv_path = download_and_get_csv_path(dataset_name)\n",
        "    data = load_data(csv_path)\n",
        "    print(f\"Data loaded successfully. Number of records: {len(data)}\")\n",
        "except FileNotFoundError as e:\n",
        "    print(f\"Error: FileNotFound {e}\")\n",
        "except Exception as e:\n",
        "    print(f\"Error: {e}\")\n"
      ],
      "metadata": {
        "colab": {
          "base_uri": "https://localhost:8080/"
        },
        "id": "rT6zrM9V5oFZ",
        "outputId": "b64da36b-4189-4f19-c2f4-72845870e165"
      },
      "execution_count": null,
      "outputs": [
        {
          "output_type": "stream",
          "name": "stdout",
          "text": [
            "Warning: Looks like you're using an outdated `kagglehub` version (installed: 0.3.6), please consider upgrading to the latest version (0.3.7).\n",
            "Downloading from https://www.kaggle.com/api/v1/datasets/download/harshitshankhdhar/imdb-dataset-of-top-1000-movies-and-tv-shows?dataset_version_number=1...\n"
          ]
        },
        {
          "output_type": "stream",
          "name": "stderr",
          "text": [
            "100%|██████████| 175k/175k [00:00<00:00, 45.8MB/s]"
          ]
        },
        {
          "output_type": "stream",
          "name": "stdout",
          "text": [
            "Extracting files...\n",
            "Data loaded successfully. Number of records: 1000\n"
          ]
        },
        {
          "output_type": "stream",
          "name": "stderr",
          "text": [
            "\n"
          ]
        }
      ]
    },
    {
      "cell_type": "code",
      "source": [
        "df = data\n",
        "\n",
        "df = df.dropna(subset=[\"Series_Title\", \"Genre\", \"Director\", \"Overview\"])"
      ],
      "metadata": {
        "id": "6ayTRdkZ6b9f"
      },
      "execution_count": null,
      "outputs": []
    },
    {
      "cell_type": "code",
      "execution_count": null,
      "metadata": {
        "id": "_Rbw8Sj15Zjz"
      },
      "outputs": [],
      "source": [
        "def format_example(row):\n",
        "    return f\"Title: {row['Series_Title']}\\nGenres: {row['Genre']}\\nDirector: {row['Director']}\\Overview: {row['Overview']}\\n\\n\"\n",
        "\n",
        "texts = df.apply(format_example, axis=1).tolist()\n",
        "\n",
        "with open(\"fine_tuning_data.txt\", \"w\", encoding=\"utf-8\") as f:\n",
        "    f.write(\"\".join(texts))\n",
        "\n",
        "class TextDataset(Dataset):\n",
        "    def __init__(self, tokenizer, file_path, block_size=512):\n",
        "        with open(file_path, encoding=\"utf-8\") as f:\n",
        "            text = f.read()\n",
        "        tokenized_text = tokenizer.encode(text)\n",
        "        self.examples = []\n",
        "        for i in range(0, len(tokenized_text) - block_size + 1, block_size):\n",
        "            self.examples.append(tokenized_text[i:i + block_size])\n",
        "\n",
        "    def __len__(self):\n",
        "        return len(self.examples)\n",
        "\n",
        "    def __getitem__(self, i):\n",
        "        return torch.tensor(self.examples[i], dtype=torch.long)\n",
        "\n",
        "model_name = \"gpt2\"\n",
        "tokenizer = GPT2Tokenizer.from_pretrained(model_name)\n",
        "tokenizer.pad_token = tokenizer.eos_token\n",
        "model = GPT2LMHeadModel.from_pretrained(model_name)\n",
        "\n",
        "block_size = 512\n",
        "train_dataset = TextDataset(tokenizer, \"fine_tuning_data.txt\", block_size=block_size)\n",
        "\n",
        "data_collator = DataCollatorForLanguageModeling(\n",
        "    tokenizer=tokenizer, mlm=False,\n",
        ")\n",
        "\n",
        "training_args = TrainingArguments(\n",
        "    output_dir=\"./gpt2-finetuned\",\n",
        "    overwrite_output_dir=True,\n",
        "    num_train_epochs=3,\n",
        "    per_device_train_batch_size=2,\n",
        "    save_steps=500,\n",
        "    save_total_limit=2,\n",
        "    prediction_loss_only=True,\n",
        "    logging_steps=100,\n",
        "    learning_rate=5e-5,\n",
        ")\n",
        "\n",
        "trainer = Trainer(\n",
        "    model=model,\n",
        "    args=training_args,\n",
        "    data_collator=data_collator,\n",
        "    train_dataset=train_dataset,\n",
        ")\n",
        "\n",
        "if __name__ == \"__main__\":\n",
        "    print(\"Rozpoczęcie fine-tuning modelu GPT-2...\")\n",
        "    trainer.train()\n",
        "    trainer.save_model(\"./gpt2-finetuned\")\n",
        "    print(\"Fine-tuning zakończony. Model zapisany w katalogu './gpt2-finetuned'.\")\n"
      ]
    },
    {
      "cell_type": "code",
      "source": [
        "tokenizer = GPT2Tokenizer.from_pretrained(\"gpt2\")\n",
        "tokenizer.pad_token = tokenizer.eos_token\n",
        "\n",
        "tokenizer.save_pretrained(\"./gpt2-finetuned\")\n"
      ],
      "metadata": {
        "colab": {
          "base_uri": "https://localhost:8080/"
        },
        "id": "ZJOPlpXOYuX0",
        "outputId": "bead9777-5825-4fc0-bd2e-fda86ced3a4c"
      },
      "execution_count": null,
      "outputs": [
        {
          "output_type": "execute_result",
          "data": {
            "text/plain": [
              "('./gpt2-finetuned/tokenizer_config.json',\n",
              " './gpt2-finetuned/special_tokens_map.json',\n",
              " './gpt2-finetuned/vocab.json',\n",
              " './gpt2-finetuned/merges.txt',\n",
              " './gpt2-finetuned/added_tokens.json')"
            ]
          },
          "metadata": {},
          "execution_count": 9
        }
      ]
    },
    {
      "cell_type": "code",
      "source": [
        "def load_finetuned_model(model_path: str):\n",
        "    tokenizer = GPT2Tokenizer.from_pretrained(model_path)\n",
        "    tokenizer.pad_token = tokenizer.eos_token\n",
        "    model = GPT2LMHeadModel.from_pretrained(model_path)\n",
        "    model.eval()\n",
        "    return model, tokenizer\n",
        "\n",
        "def generate_movie_description(model, tokenizer, title: str, genres: str, director: str, max_new_tokens: int = 200) -> str:\n",
        "    prompt = f\"Title: {title}\\nGenres: {genres}\\nDirector: {director}\\nOverview:\"\n",
        "    input_ids = tokenizer.encode(prompt, return_tensors=\"pt\")\n",
        "\n",
        "    with torch.no_grad():\n",
        "        output_ids = model.generate(\n",
        "            input_ids,\n",
        "            max_length=len(input_ids[0]) + max_new_tokens,\n",
        "            temperature=0.8,\n",
        "            do_sample=True,\n",
        "            top_p=0.95,\n",
        "            pad_token_id=tokenizer.eos_token_id,\n",
        "            eos_token_id=tokenizer.eos_token_id\n",
        "        )\n",
        "\n",
        "    generated_text = tokenizer.decode(output_ids[0], skip_special_tokens=True)\n",
        "\n",
        "    if \"Overview:\" in generated_text:\n",
        "        description = generated_text.split(\"Overview:\")[-1].strip()\n",
        "    else:\n",
        "        description = generated_text.strip()\n",
        "\n",
        "    return description"
      ],
      "metadata": {
        "id": "ixUY8o6K8MFo"
      },
      "execution_count": null,
      "outputs": []
    },
    {
      "cell_type": "code",
      "source": [
        "model_path = \"./gpt2-finetuned\"\n",
        "model_tuned, tokenizer_tuned = load_finetuned_model(model_path)\n"
      ],
      "metadata": {
        "id": "KgEyf28-9NpG"
      },
      "execution_count": null,
      "outputs": []
    },
    {
      "cell_type": "code",
      "source": [
        "title = \"The Matrix\"\n",
        "genres = \"Action, Sci-Fi\"\n",
        "director = \"Lana Wachowski, Lilly Wachowski\"\n",
        "\n",
        "description = generate_movie_description(model_tuned, tokenizer_tuned, title, genres, director)\n",
        "print(\"Generated description:\")\n",
        "print(description)"
      ],
      "metadata": {
        "colab": {
          "base_uri": "https://localhost:8080/"
        },
        "id": "5rx7rTsUFxV3",
        "outputId": "bef02e12-ccf2-44d4-9559-2ee0e260859d"
      },
      "execution_count": null,
      "outputs": [
        {
          "output_type": "stream",
          "name": "stderr",
          "text": [
            "The attention mask is not set and cannot be inferred from input because pad token is same as eos token. As a consequence, you may observe unexpected behavior. Please pass your input's `attention_mask` to obtain reliable results.\n"
          ]
        },
        {
          "output_type": "stream",
          "name": "stdout",
          "text": [
            "Generated description:\n",
            "A young boy grows up in a small town with a mysterious older brother, but soon discovers a strange, alien world that he must flee, and must\n"
          ]
        }
      ]
    },
    {
      "cell_type": "code",
      "source": [
        "title = \"The Matrix\"\n",
        "genres = \"Action, Sci-Fi\"\n",
        "director = \"Lana Wachowski, Lilly Wachowski\"\n",
        "\n",
        "description = generate_movie_description(model_tuned, tokenizer_tuned, title, genres, director)\n",
        "print(\"Generated description:\")\n",
        "print(description)"
      ],
      "metadata": {
        "colab": {
          "base_uri": "https://localhost:8080/"
        },
        "id": "_FIlm0tgZbn6",
        "outputId": "7f921293-ad50-46bf-a3f0-9904dc07e374"
      },
      "execution_count": null,
      "outputs": [
        {
          "output_type": "stream",
          "name": "stdout",
          "text": [
            "Generated description:\n",
            "When his friends and family are murdered, a priest decides to use his personal powers to bring about the exorcism that would have\n"
          ]
        }
      ]
    },
    {
      "cell_type": "code",
      "source": [
        "title = \"The Godfather\"\n",
        "genres = \"Crime, Drama\"\n",
        "director = \"Francis Ford Coppola\"\n",
        "\n",
        "description = generate_movie_description(model_tuned, tokenizer_tuned, title, genres, director)\n",
        "print(\"Generated description:\")\n",
        "print(description)"
      ],
      "metadata": {
        "colab": {
          "base_uri": "https://localhost:8080/"
        },
        "id": "MNWRvqMgFzPw",
        "outputId": "e2fc6679-f21f-4d87-975f-5d9a2e42d445"
      },
      "execution_count": null,
      "outputs": [
        {
          "output_type": "stream",
          "name": "stdout",
          "text": [
            "Generated description:\n",
            "The mysterious, yet highly skilled, Thing must rescue an old friend and a young woman in a battle to save the world from the demonic monster, while the Thing tries to change the world and destroy the world's\n"
          ]
        }
      ]
    },
    {
      "cell_type": "code",
      "source": [
        "title = \"The Godfather\"\n",
        "genres = \"Crime, Drama\"\n",
        "director = \"Francis Ford Coppola\"\n",
        "\n",
        "description = generate_movie_description(model_tuned, tokenizer_tuned, title, genres, director)\n",
        "print(\"Generated description:\")\n",
        "print(description)"
      ],
      "metadata": {
        "colab": {
          "base_uri": "https://localhost:8080/"
        },
        "id": "faNXtvHcZfMw",
        "outputId": "25b8c39c-b76d-4600-8cf3-f6e9af3264c0"
      },
      "execution_count": null,
      "outputs": [
        {
          "output_type": "stream",
          "name": "stdout",
          "text": [
            "Generated description:\n",
            "A young aristocrat, the son of a baron, is accused of murder and is sentenced to life imprisonment.\n",
            "\n",
            "Title\n"
          ]
        }
      ]
    },
    {
      "cell_type": "code",
      "source": [
        "title = \"The Dark Knight\"\n",
        "genres = \"Action, Crime, Drama\"\n",
        "director = \"Christopher Nolan\"\n",
        "\n",
        "description = generate_movie_description(model_tuned, tokenizer_tuned, title, genres, director)\n",
        "print(\"Generated description:\")\n",
        "print(description)"
      ],
      "metadata": {
        "colab": {
          "base_uri": "https://localhost:8080/"
        },
        "id": "WyD1To7eZwCF",
        "outputId": "dd608d75-f576-4254-93f3-8551595464a4"
      },
      "execution_count": null,
      "outputs": [
        {
          "output_type": "stream",
          "name": "stdout",
          "text": [
            "Generated description:\n",
            "The first four hours of The Dark Knight Rises take place in the year after the events of\n"
          ]
        }
      ]
    },
    {
      "cell_type": "code",
      "source": [
        "title = \"The Dark Knight\"\n",
        "genres = \"Action, Crime, Drama\"\n",
        "director = \"Christopher Nolan\"\n",
        "\n",
        "description = generate_movie_description(model_tuned, tokenizer_tuned, title, genres, director)\n",
        "print(\"Generated description:\")\n",
        "print(description)"
      ],
      "metadata": {
        "colab": {
          "base_uri": "https://localhost:8080/"
        },
        "id": "AiFRiPxxaMWl",
        "outputId": "a503eda0-1686-422b-df82-ce85d2d6fb08"
      },
      "execution_count": null,
      "outputs": [
        {
          "output_type": "stream",
          "name": "stdout",
          "text": [
            "Generated description:\n",
            "A man is taken to court for painting his own faces. He is tried and convicted of murder but acquitted.\n",
            "\n",
            "Title: The Godfather\n",
            "Genres: Action, Comedy, Family\n",
            "Director:\n"
          ]
        }
      ]
    },
    {
      "cell_type": "code",
      "source": [
        "title = \"The Lord of the Rings: The Return of the King\"\n",
        "genres = \"Action, Adventure, Drama\"\n",
        "director = \"Peter Jackson\"\n",
        "\n",
        "description = generate_movie_description(model_tuned, tokenizer_tuned, title, genres, director)\n",
        "print(\"Generated description:\")\n",
        "print(description)"
      ],
      "metadata": {
        "colab": {
          "base_uri": "https://localhost:8080/"
        },
        "id": "dzQdyiIPboi_",
        "outputId": "bf0c25fa-26a8-449f-999f-76012670df84"
      },
      "execution_count": null,
      "outputs": [
        {
          "output_type": "stream",
          "name": "stdout",
          "text": [
            "Generated description:\n",
            "During the Battle of the Great Hall of the East Room, Gandalf and the other hobbits are surrounded by the armies of Sauron, and as they fight, Bilbo and his companions find themselves fighting on the high ground.\n",
            "\n",
            "Title: The Hobbit: An Unexpected Journey\n",
            "Genres: Adventure, Adventure, Drama\n",
            "Director: Steven\n"
          ]
        }
      ]
    },
    {
      "cell_type": "code",
      "source": [
        "title = \"How to Train Your Dragon\"\n",
        "genres = \"Animation, Action, Comedy\"\n",
        "director = \"Chris Sanders, Dean DeBlois\"\n",
        "\n",
        "description = generate_movie_description(model_tuned, tokenizer_tuned, title, genres, director)\n",
        "print(\"Generated description:\")\n",
        "print(description)"
      ],
      "metadata": {
        "colab": {
          "base_uri": "https://localhost:8080/"
        },
        "id": "t_cVtBhob3NS",
        "outputId": "03d8c532-77f2-4aa7-96a7-58b21117987a"
      },
      "execution_count": null,
      "outputs": [
        {
          "output_type": "stream",
          "name": "stdout",
          "text": [
            "Generated description:\n",
            "In 1986, a lawyer, a political activist, and a business partner are accused of a scam that involves a scheme to help wealthy people\n"
          ]
        }
      ]
    },
    {
      "cell_type": "code",
      "source": [
        "title = \"How to Train Your Dragon\"\n",
        "genres = \"Animation, Action, Comedy\"\n",
        "director = \"Chris Sanders, Dean DeBlois\"\n",
        "\n",
        "description = generate_movie_description(model_tuned, tokenizer_tuned, title, genres, director)\n",
        "print(\"Generated description:\")\n",
        "print(description)"
      ],
      "metadata": {
        "colab": {
          "base_uri": "https://localhost:8080/"
        },
        "id": "opv9PPhDwgrr",
        "outputId": "31d0a9f4-327e-4fef-f3d5-8cc45446949a"
      },
      "execution_count": null,
      "outputs": [
        {
          "output_type": "stream",
          "name": "stdout",
          "text": [
            "Generated description:\n",
            "A young man with a reputation for evil comes to a rescue when a rogue detective who seems to have a connection with evil falls in love with the young woman.\n",
            "\n",
            "Title: The Lord of the Rings: The Return of the King\n",
            "Genres: Adventure, Fantasy, Sci-Fi\n",
            "Director: Ron\n"
          ]
        }
      ]
    },
    {
      "cell_type": "code",
      "source": [
        "title = \"Goodfellas\"\n",
        "genres = \"Biography, Crime, Drama\"\n",
        "director = \"Martin Scorseses\"\n",
        "\n",
        "description = generate_movie_description(model_tuned, tokenizer_tuned, title, genres, director)\n",
        "print(\"Generated description:\")\n",
        "print(description)"
      ],
      "metadata": {
        "colab": {
          "base_uri": "https://localhost:8080/"
        },
        "id": "h97ZDVb0gHQc",
        "outputId": "6503302d-507b-4056-e3bc-544078afc5c6"
      },
      "execution_count": null,
      "outputs": [
        {
          "output_type": "stream",
          "name": "stdout",
          "text": [
            "Generated description:\n",
            "A man learns about life in a small town and becomes obsessed with finding out what's going on.\n"
          ]
        }
      ]
    },
    {
      "cell_type": "code",
      "source": [
        "title = \"How to Lose a Guy in 10 Days\"\n",
        "genres = \"Comedy, Romance\"\n",
        "director = \"Donald Petrie\"\n",
        "\n",
        "description = generate_movie_description(model_tuned, tokenizer_tuned, title, genres, director)\n",
        "print(\"Generated description:\")\n",
        "print(description)"
      ],
      "metadata": {
        "colab": {
          "base_uri": "https://localhost:8080/"
        },
        "id": "hhmDBww_hM-D",
        "outputId": "4f876a3f-1658-4754-d7b9-cd5056cf1f99"
      },
      "execution_count": null,
      "outputs": [
        {
          "output_type": "stream",
          "name": "stdout",
          "text": [
            "Generated description:\n",
            "As the title would suggest, the story of a young man who becomes the new ruler of the Roman Empire and embarks on a bloody mission to save his father from being killed by the Roman\n"
          ]
        }
      ]
    },
    {
      "cell_type": "code",
      "source": [
        "title = \"The Joker\"\n",
        "genres = \"Crime, Drama, Thriller\"\n",
        "director = \"Todd Phillips\"\n",
        "\n",
        "description = generate_movie_description(model_tuned, tokenizer_tuned, title, genres, director)\n",
        "print(\"Generated description:\")\n",
        "print(description)"
      ],
      "metadata": {
        "colab": {
          "base_uri": "https://localhost:8080/"
        },
        "id": "ejimfQo-tz72",
        "outputId": "ced42150-0ac2-4233-9481-90bb61c2fe86"
      },
      "execution_count": null,
      "outputs": [
        {
          "output_type": "stream",
          "name": "stdout",
          "text": [
            "Generated description:\n",
            "The movie's story of a young woman who is sold by a wealthy banker to a wealthy French banker and is told the story of a man who has been in debt for years and who has been left behind.\n"
          ]
        }
      ]
    },
    {
      "cell_type": "code",
      "source": [
        "title = \"The Joker\"\n",
        "genres = \"Crime, Drama, Thriller\"\n",
        "director = \"Todd Phillips\"\n",
        "\n",
        "description = generate_movie_description(model_tuned, tokenizer_tuned, title, genres, director)\n",
        "print(\"Generated description:\")\n",
        "print(description)"
      ],
      "metadata": {
        "colab": {
          "base_uri": "https://localhost:8080/"
        },
        "id": "q1zp_TOOuCsp",
        "outputId": "acbe70da-797b-43d9-9558-53250ee1c516"
      },
      "execution_count": null,
      "outputs": [
        {
          "output_type": "stream",
          "name": "stdout",
          "text": [
            "Generated description:\n",
            "A group of musicians discover that they are the true heirs of one of their favorite musicians.\n",
            "\n",
            "Title: A New York City Story\n",
            "Gen\n"
          ]
        }
      ]
    },
    {
      "cell_type": "code",
      "source": [
        "title = \"Meet Joe Black\"\n",
        "genres = \"Romance, Fantasy\"\n",
        "director = \"Martin Brest\"\n",
        "\n",
        "description = generate_movie_description(model_tuned, tokenizer_tuned, title, genres, director)\n",
        "print(\"Generated description:\")\n",
        "print(description)"
      ],
      "metadata": {
        "colab": {
          "base_uri": "https://localhost:8080/"
        },
        "id": "vk5rvzv7uteb",
        "outputId": "6e3954c3-e636-4544-9b02-6759ef3487fe"
      },
      "execution_count": null,
      "outputs": [
        {
          "output_type": "stream",
          "name": "stdout",
          "text": [
            "Generated description:\n",
            "The story of Christmas and the Christmas car accident that left a 12-year-old boy with a broken leg.\n",
            "\n",
            "Title: The Hobbit: The Desolation of Smaug\n",
            "Genres: Adventure, Fantasy, Sci-Fi\n",
            "Director: Peter Jackson\\Overview\n"
          ]
        }
      ]
    },
    {
      "cell_type": "code",
      "source": [
        "title = \"Harry Potter and the Philosopher's Stone\"\n",
        "genres = \"Family, Fantasy \"\n",
        "director = \"Chris Columbus\"\n",
        "\n",
        "description = generate_movie_description(model_tuned, tokenizer_tuned, title, genres, director)\n",
        "print(\"Generated description:\")\n",
        "print(description)"
      ],
      "metadata": {
        "colab": {
          "base_uri": "https://localhost:8080/"
        },
        "id": "fgv4MoHtu9JT",
        "outputId": "9764c02c-dea1-40f4-d93d-409665fc3eb8"
      },
      "execution_count": null,
      "outputs": [
        {
          "output_type": "stream",
          "name": "stdout",
          "text": [
            "Generated description:\n",
            "Two friends are asked to help Harry and Ron get through the summer holidays and prevent a child from\n"
          ]
        }
      ]
    },
    {
      "cell_type": "code",
      "source": [
        "title = \"Once Upon a Time... in Hollywood\"\n",
        "genres = \"Comedy, Western\"\n",
        "director = \"Quentin Tarantino\"\n",
        "\n",
        "description = generate_movie_description(model_tuned, tokenizer_tuned, title, genres, director)\n",
        "print(\"Generated description:\")\n",
        "print(description)"
      ],
      "metadata": {
        "colab": {
          "base_uri": "https://localhost:8080/"
        },
        "id": "7z8iHbTeviNu",
        "outputId": "fab44220-f62d-4aec-9c4d-2c15fbc0e850"
      },
      "execution_count": null,
      "outputs": [
        {
          "output_type": "stream",
          "name": "stdout",
          "text": [
            "Generated description:\n",
            "A young man is forced to leave his home to search for his father's body when a robbery is committed.\n",
            "\n",
            "Title: The Girl with the Dragon Tattoo\n",
            "Genres:\n"
          ]
        }
      ]
    }
  ]
}